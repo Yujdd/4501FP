{
 "cells": [
  {
   "cell_type": "markdown",
   "id": "32f8ca24",
   "metadata": {},
   "source": [
    "# Understanding Hired Rides in NYC\n",
    "\n",
    "_[Project prompt](https://docs.google.com/document/d/1VERPjEZcC1XSs4-02aM-DbkNr_yaJVbFjLJxaYQswqA/edit#)_\n",
    "\n",
    "_This scaffolding notebook may be used to help setup your final project. It's **totally optional** whether you make use of this or not._\n",
    "\n",
    "_If you do use this notebook, everything provided is optional as well - you may remove or add prose and code as you wish._\n",
    "\n",
    "_Anything in italics (prose) or comments (in code) is meant to provide you with guidance. **Remove the italic lines and provided comments** before submitting the project, if you choose to use this scaffolding. We don't need the guidance when grading._\n",
    "\n",
    "_**All code below should be consider \"pseudo-code\" - not functional by itself, and only a suggestion at the approach.**_"
   ]
  },
  {
   "cell_type": "markdown",
   "id": "25627e8d",
   "metadata": {},
   "source": [
    "## Requirements\n",
    "\n",
    "_A checklist of requirements to keep you on track. Remove this whole cell before submitting the project._\n",
    "\n",
    "* Code clarity: make sure the code conforms to:\n",
    "    * [ ] [PEP 8](https://peps.python.org/pep-0008/) - You might find [this resource](https://realpython.com/python-pep8/) helpful as well as [this](https://github.com/dnanhkhoa/nb_black) or [this](https://jupyterlab-code-formatter.readthedocs.io/en/latest/) tool\n",
    "    * [ ] [PEP 257](https://peps.python.org/pep-0257/)\n",
    "    * [ ] Break each task down into logical functions\n",
    "* The following files are submitted for the project (see the project's GDoc for more details):\n",
    "    * [ ] `README.md`\n",
    "    * [ ] `requirements.txt`\n",
    "    * [ ] `.gitignore`\n",
    "    * [ ] `schema.sql`\n",
    "    * [ ] 6 query files (using the `.sql` extension), appropriately named for the purpose of the query\n",
    "    * [x] Jupyter Notebook containing the project (this file!)\n",
    "* [x] You can edit this cell and add a `x` inside the `[ ]` like this task to denote a completed task"
   ]
  },
  {
   "cell_type": "markdown",
   "id": "2f75fd94",
   "metadata": {},
   "source": [
    "## Project Setup"
   ]
  },
  {
   "cell_type": "code",
   "execution_count": 3,
   "id": "66dcde05",
   "metadata": {},
   "outputs": [],
   "source": [
    "# all import statements needed for the project, for example:\n",
    "\n",
    "import math\n",
    "from math import radians, sin, cos, asin, sqrt\n",
    "import datetime\n",
    "from datetime import datetime\n",
    "import keplergl\n",
    "from keplergl import KeplerGl\n",
    "import bs4\n",
    "import matplotlib.pyplot as plt\n",
    "import pandas as pd\n",
    "import geopandas as gpd\n",
    "import requests\n",
    "import sqlalchemy as db\n",
    "import re\n",
    "import numpy as np"
   ]
  },
  {
   "cell_type": "code",
   "execution_count": 4,
   "id": "8b622a58",
   "metadata": {},
   "outputs": [],
   "source": [
    "# any general notebook setup, like log formatting\n",
    "import warnings\n",
    "# setting ignore as a parameter\n",
    "warnings.filterwarnings('ignore') "
   ]
  },
  {
   "cell_type": "code",
   "execution_count": 5,
   "id": "3f1242c4",
   "metadata": {},
   "outputs": [],
   "source": [
    "# any constants you might need, for example:\n",
    "\n",
    "TAXI_URL = \"https://www1.nyc.gov/site/tlc/about/tlc-trip-record-data.page\"\n",
    "# add other constants to refer to any local data, e.g. uber & weather\n",
    "UBER_CSV = \"uber_rides_sample.csv\"\n",
    "\n",
    "NEW_YORK_BOX_COORDS = ((40.560445, -74.242330), (40.908524, -73.717047))\n",
    "\n",
    "DATABASE_URL = \"sqlite:///project.db\"\n",
    "DATABASE_SCHEMA_FILE = \"schema.sql\"\n",
    "QUERY_DIRECTORY = \"queries\""
   ]
  },
  {
   "cell_type": "markdown",
   "id": "26ad10ea",
   "metadata": {},
   "source": [
    "## Part 1: Data Preprocessing"
   ]
  },
  {
   "cell_type": "markdown",
   "id": "ecf38168",
   "metadata": {},
   "source": [
    "_A checklist of requirements to keep you on track. Remove this whole cell before submitting the project. The order of these tasks aren't necessarily the order in which they need to be done. It's okay to do them in an order that makes sense to you._\n",
    "\n",
    "* [ ] Define a function that calculates the distance between two coordinates in kilometers that **only uses the `math` module** from the standard library.\n",
    "* [ ] Taxi data:\n",
    "    * [ ] Use the `re` module, and the packages `requests`, BeautifulSoup (`bs4`), and (optionally) `pandas` to programmatically download the required CSV files & load into memory.\n",
    "    * You may need to do this one file at a time - download, clean, sample. You can cache the sampling by saving it as a CSV file (and thereby freeing up memory on your computer) before moving onto the next file. \n",
    "* [ ] Weather & Uber data:\n",
    "    * [ ] Download the data manually in the link provided in the project doc.\n",
    "* [ ] All data:\n",
    "    * [ ] Load the data using `pandas`\n",
    "    * [ ] Clean the data, including:\n",
    "        * Remove unnecessary columns\n",
    "        * Remove invalid data points (take a moment to consider what's invalid)\n",
    "        * Normalize column names\n",
    "        * (Taxi & Uber data) Remove trips that start and/or end outside the designated [coordinate box](http://bboxfinder.com/#40.560445,-74.242330,40.908524,-73.717047)\n",
    "    * [ ] (Taxi data) Sample the data so that you have roughly the same amount of data points over the given date range for both Taxi data and Uber data.\n",
    "* [ ] Weather data:\n",
    "    * [ ] Split into two `pandas` DataFrames: one for required hourly data, and one for the required daily daya.\n",
    "    * [ ] You may find that the weather data you need later on does not exist at the frequency needed (daily vs hourly). You may calculate/generate samples from one to populate the other. Just document what you’re doing so we can follow along. "
   ]
  },
  {
   "cell_type": "markdown",
   "id": "32074561",
   "metadata": {},
   "source": [
    "### Calculating distance\n",
    "_**TODO:** Write some prose that tells the reader what you're about to do here._"
   ]
  },
  {
   "cell_type": "code",
   "execution_count": 6,
   "id": "4cbbe6cc",
   "metadata": {},
   "outputs": [],
   "source": [
    "def calculate_distance(from_coord, to_coord):\n",
    "    # calculate the dstance between two coordinates in kilometers\n",
    "    \n",
    "    # get the statistics from the imported file \n",
    "    pickup_longitude = from_coord['pickup_longitude'].map(radians)\n",
    "    pickup_latitude = from_coord['pickup_latitude'].map(radians)\n",
    "    dropoff_longitude = to_coord['dropoff_longitude'].map(radians)\n",
    "    dropoff_latitude = to_coord['dropoff_latitude'].map(radians)\n",
    "    \n",
    "  \n",
    "    Radius_of_earth = 6378.1\n",
    "    diff_lon = pickup_longitude - dropoff_longitude\n",
    "    diff_lat = pickup_latitude - dropoff_latitude\n",
    "    \n",
    "    # calculate the result using following equations by converting coordinates to km\n",
    "    \n",
    "    #Equations\n",
    "    part_one = (diff_lat/2).map(sin)**2 + pickup_latitude.map(cos)*dropoff_latitude.map(cos)* (diff_lon/2).map(sin)**2\n",
    "    part_two =  part_one.map(sqrt).map(asin)\n",
    "    \n",
    "    #Final answer\n",
    "    dist = 2*part_two*Radius_of_earth\n",
    "    \n",
    "    return dist"
   ]
  },
  {
   "cell_type": "code",
   "execution_count": 7,
   "id": "6d6abf52",
   "metadata": {},
   "outputs": [],
   "source": [
    "def add_distance_column(dataframe):\n",
    "    # using the distance calculating function above\n",
    "    from_coord = dataframe[['pickup_latitude', 'pickup_longitude']]\n",
    "    to_coord = dataframe[['dropoff_latitude', 'dropoff_longitude']]\n",
    "    \n",
    "    #Add a new column called distance to the dataframe\n",
    "    dataframe['distance'] = calculate_distance(from_coord, to_coord)\n",
    "    \n",
    "    return dataframe"
   ]
  },
  {
   "cell_type": "markdown",
   "id": "93daa717",
   "metadata": {},
   "source": [
    "### Processing Taxi Data\n",
    "\n",
    "_**TODO:** Write some prose that tells the reader what you're about to do here._"
   ]
  },
  {
   "cell_type": "code",
   "execution_count": 8,
   "id": "cbd0d198",
   "metadata": {},
   "outputs": [],
   "source": [
    "def find_taxi_csv_urls():\n",
    "    # get all the URLs meet the requirements from the given website.\n",
    "    \n",
    "    # input the known website\n",
    "    TAXI_URL = \"https://www.nyc.gov/site/tlc/about/tlc-trip-record-data.page\"\n",
    "\n",
    "    # get the links meet the requirements(for yellow taxi from 2009-01 to 2015-06)\n",
    "    response = requests.get(TAXI_URL)\n",
    "    html = response.content\n",
    "    soup = bs4.BeautifulSoup(html, \"html.parser\")\n",
    "    \n",
    "    # derive all yellow taxi files\n",
    "    yellow_taxi = soup.find_all(\"a\", attrs={\"title\": \"Yellow Taxi Trip Records\"})\n",
    "    all_links = [a[\"href\"] for a in yellow_taxi]\n",
    "\n",
    "    # derive 2009-01 to 2015-06 records for yellow taxi\n",
    "    pattern = re.compile(\n",
    "    r\"yellow_tripdata_2009-([0-9]{2})|yellow_tripdata_201([0-4])-([0-9]{2})|yellow_tripdata_2015-0([1-6]).parquet\"\n",
    "    )\n",
    "    \n",
    "    # create a empty list in order to store the links\n",
    "    URLs = []\n",
    "\n",
    "    # using for loop to see whether the URLs match the pattern\n",
    "    # and add to the list created before if the pattern is matched\n",
    "    for link in all_links:\n",
    "        match = pattern.search(link)\n",
    "        if match:\n",
    "            URLs.append(match.string)\n",
    "            \n",
    "    return URLs"
   ]
  },
  {
   "cell_type": "code",
   "execution_count": 9,
   "id": "2f40130a",
   "metadata": {},
   "outputs": [],
   "source": [
    "def get_and_clean_month_taxi_data(url):\n",
    "    # Given URLs to get clean monthly taxi data.\n",
    "    dirty_taxi = pd.read_parquet(url)\n",
    "    \n",
    "    # Cleaning the data\n",
    "    # To match between columns in different years with same meaning\n",
    "    dirty_taxi= dirty_taxi.rename(columns = {\"tpep_pickup_datetime\": \"pickup_datetime\",\n",
    "                                \"tpep_dropoff_datetime\": \"dropoff_datetime\",\n",
    "                                \"Trip_Pickup_DateTime\": \"pickup_datetime\",\n",
    "                                \"Trip_Dropoff_DateTime\": \"dropoff_datetime\",\n",
    "                                \"Passenger_Count\": \"passenger_count\",\n",
    "                                \"Total_Amt\": \"total_amount\",\n",
    "                                \"Start_Lon\": \"pickup_longitude\",\n",
    "                                \"Start_Lat\": \"pickup_latitude\",\n",
    "                                \"End_Lon\": \"dropoff_longitude\",\n",
    "                                \"End_Lat\": \"dropoff_latitude\",\n",
    "                                \"Tip_Amt\": \"tip_amount\"})\n",
    "    \n",
    "    # We only care about data which the number of passenger is greater than 0\n",
    "    # So in this stage, we only retain the \"passenger_count >=1\" and rest of data marks as invalid data\n",
    "    clean_taxi = dirty_taxi[(dirty_taxi[\"passenger_count\"] >= 1)]\n",
    "    \n",
    "    # Delete invalid data points with zero total amount \n",
    "    clean_taxi = clean_taxi[clean_taxi[\"total_amount\"] != 0]\n",
    "    \n",
    "    \n",
    "    # To illustrate Column(\"PULocationID\" and \"DOLocationID\") in Coordinates\n",
    "    taxi_zone = gpd.read_file('taxi_zones.zip')\n",
    "    taxi_zone = taxi_zone.to_crs(4326)\n",
    "    taxi_zone[\"longitude\"] = taxi_zone.centroid.x\n",
    "    taxi_zone[\"latitude\"] = taxi_zone.centroid.y\n",
    "    \n",
    "    # Keep Columns that needed to answer questions:\n",
    "    # We need 'pickup_datetime','dropoff_datetime','tip_amount','pickup_longitude','pickup_latitude','dropoff_longitude','dropoff_latitude'\n",
    "        \n",
    "    # For data after 2010\n",
    "    # If 'PULocationID' included in the column\n",
    "    # We need to transfer into coordinates and add to dataframe as a new column\n",
    "    # Same procedure for 'DOLocationID' for dropoff\n",
    "    if 'PULocationID' in clean_taxi.columns:\n",
    "        # First select existed columns needed\n",
    "        data_taxi = clean_taxi[[\"pickup_datetime\",\"dropoff_datetime\", \"tip_amount\"]]\n",
    "        # Create new column to store trasfered data\n",
    "        data_taxi['pickup_longitude'] = clean_taxi['PULocationID'].map(taxi_zone.centroid.x)\n",
    "        data_taxi['pickup_latitude'] = clean_taxi['PULocationID'].map(taxi_zone.centroid.y)\n",
    "        data_taxi['dropoff_longitude'] = clean_taxi['DOLocationID'].map(taxi_zone.centroid.x)\n",
    "        data_taxi['dropoff_latitude'] = clean_taxi['DOLocationID'].map(taxi_zone.centroid.y)\n",
    "    else:\n",
    "        # For data before 2010\n",
    "        # Select columns we want:\n",
    "        data_taxi = clean_taxi[['pickup_datetime','dropoff_datetime','tip_amount','pickup_longitude',\n",
    "                           'pickup_latitude','dropoff_longitude','dropoff_latitude']]\n",
    "    \n",
    "    # Drop invalid points with in selected columns\n",
    "    data_taxi = data_taxi.dropna()\n",
    "    \n",
    "    # Remove the pickup and dropoff points outside desired coordinates:\n",
    "    # (40.560445, -74.242330) and (40.908524, -73.717047).\n",
    "    data_taxi = data_taxi[(data_taxi['pickup_longitude'] > NEW_YORK_BOX_COORDS[0][1]) & \n",
    "                          (data_taxi['pickup_longitude'] < NEW_YORK_BOX_COORDS[1][1]) &\n",
    "                          (data_taxi['pickup_latitude'] > NEW_YORK_BOX_COORDS[0][0]) &\n",
    "                          (data_taxi['pickup_latitude'] < NEW_YORK_BOX_COORDS[1][0]) &\n",
    "                          (data_taxi['dropoff_longitude'] > NEW_YORK_BOX_COORDS[0][1]) & \n",
    "                          (data_taxi['dropoff_longitude'] < NEW_YORK_BOX_COORDS[1][1]) &\n",
    "                          (data_taxi['dropoff_latitude'] > NEW_YORK_BOX_COORDS[0][0]) &\n",
    "                          (data_taxi['dropoff_latitude'] < NEW_YORK_BOX_COORDS[1][0])]\n",
    "    \n",
    "    # Sample monthly data in order to roughly get the same amount of data points \n",
    "    # over the given date range for both Taxi data and Uber data.\n",
    "    # Given 78 months within the range, we need to sample out 200,000/78 data out of the cleaned data\n",
    "    sample_taxi = data_taxi.sample(n = 2565)\n",
    "    sample_taxi.set_index(pd.Series(range(2565)), inplace=True)\n",
    "    \n",
    "    # Normalize column names\n",
    "    taxi_data = sample_taxi.rename(columns = {\"tpep_pickup_datetime\": \"pickup_datetime\",\n",
    "                                \"tpep_dropoff_datetime\": \"dropoff_datetime\"})\n",
    "                     \n",
    "    return taxi_data"
   ]
  },
  {
   "cell_type": "code",
   "execution_count": 10,
   "id": "35c9c0cd",
   "metadata": {},
   "outputs": [],
   "source": [
    "def get_and_clean_taxi_data():\n",
    "    # Using for loop to get and clean data from every month through 2009-01 to 2015-06\n",
    "    all_taxi_dataframes = []\n",
    "    \n",
    "    all_csv_urls = find_taxi_csv_urls()\n",
    "    for csv_url in tqdm(all_csv_urls):\n",
    "        dataframe = get_and_clean_month_taxi_data(csv_url)\n",
    "        add_distance_column(dataframe)        \n",
    "        all_taxi_dataframes.append(dataframe)\n",
    "        \n",
    "    # Create one gigantic dataframe with data from every month needed\n",
    "    taxi_data = pd.concat(all_taxi_dataframes)\n",
    "    \n",
    "    # Normalize the types of content in each column\n",
    "    taxi_data[['pickup_datetime', 'dropoff_datetime']] = taxi_data[['pickup_datetime', 'dropoff_datetime']].apply(pd.to_datetime)\n",
    "    taxi_data.iloc[:, 2:7] = taxi_data.iloc[:, 2:7].astype(\"float64\")\n",
    "    \n",
    "    return taxi_data"
   ]
  },
  {
   "cell_type": "markdown",
   "id": "094b4d6d",
   "metadata": {},
   "source": [
    "### Processing Uber Data\n",
    "\n",
    "_**TODO:** Write some prose that tells the reader what you're about to do here._"
   ]
  },
  {
   "cell_type": "code",
   "execution_count": 16,
   "id": "d04819e8",
   "metadata": {},
   "outputs": [],
   "source": [
    "def add_distance_column(dataframe):\n",
    "    #step4: import a new column \"distance\" into the dataframe with the result of step3.\n",
    "    from_coord = dataframe[[\"pickup_latitude\",\"pickup_longitude\"]]\n",
    "    to_coord = dataframe[[\"dropoff_latitude\",\"dropoff_longitude\"]]\n",
    "    \n",
    "    dataframe[\"distance\"] = calculate_distance(from_coord, to_coord)\n",
    "    dataframe[\"distance\"] = dataframe[\"distance\"].astype(\"float32\")\n",
    "    \n",
    "    return dataframe"
   ]
  },
  {
   "cell_type": "code",
   "execution_count": 17,
   "id": "7c58e3a2",
   "metadata": {},
   "outputs": [],
   "source": [
    "def load_and_clean_uber_data(csv_file):\n",
    "    uber = pd.read_csv(csv_file)\n",
    "    \n",
    "    # Remove invalid passenger count \n",
    "    uber = uber[(uber[\"passenger_count\"] >= 1)]\n",
    "    \n",
    "    # Pick useful columns\n",
    "    uber_new = uber[[\"pickup_datetime\",\"pickup_longitude\",\"pickup_latitude\",\"dropoff_longitude\",\"dropoff_latitude\"]]\n",
    "    \n",
    "    # Normalize the datetime\n",
    "    uber_new[\"pickup_datetime\"] = uber_new[\"pickup_datetime\"].astype(\"datetime64[ns]\")\n",
    "\n",
    "    # Normalize the columns with float content\n",
    "    uber_new.iloc[:, 1:5] = uber_new.iloc[:, 1:5].astype(\"float64\")\n",
    "    \n",
    "    # Remove trips that start or end outside the designated coordinate box \n",
    "    # Make sure that the values of longitude and latitude for \n",
    "    # pickup and dropoff are in the box \n",
    "    uber_new = uber_new[(uber_new['pickup_longitude'] > NEW_YORK_BOX_COORDS[0][1]) & \n",
    "                          (uber_new['pickup_longitude'] < NEW_YORK_BOX_COORDS[1][1]) &\n",
    "                          (uber_new['pickup_latitude'] > NEW_YORK_BOX_COORDS[0][0]) &\n",
    "                          (uber_new['pickup_latitude'] < NEW_YORK_BOX_COORDS[1][0]) &\n",
    "                          (uber_new['dropoff_longitude'] > NEW_YORK_BOX_COORDS[0][1]) & \n",
    "                          (uber_new['dropoff_longitude'] < NEW_YORK_BOX_COORDS[1][1]) &\n",
    "                          (uber_new['dropoff_latitude'] > NEW_YORK_BOX_COORDS[0][0]) &\n",
    "                          (uber_new['dropoff_latitude'] < NEW_YORK_BOX_COORDS[1][0])]\n",
    "\n",
    "    return uber_new "
   ]
  },
  {
   "cell_type": "code",
   "execution_count": 18,
   "id": "f836f118",
   "metadata": {},
   "outputs": [],
   "source": [
    "def get_uber_data():\n",
    "    uber_dataframe = load_and_clean_uber_data(UBER_CSV)\n",
    "    add_distance_column(uber_dataframe)\n",
    "    \n",
    "    return uber_dataframe"
   ]
  },
  {
   "cell_type": "markdown",
   "id": "45a15cbb",
   "metadata": {},
   "source": [
    "### Processing Weather Data\n",
    "\n",
    "_**TODO:** Write some prose that tells the reader what you're about to do here._"
   ]
  },
  {
   "cell_type": "code",
   "execution_count": 19,
   "id": "76e864ab",
   "metadata": {},
   "outputs": [],
   "source": [
    "def clean_month_weather_data_hourly(csv_file):\n",
    "    weather_dirty = pd.read_csv(csv_file)\n",
    "    \n",
    "    # Only pick useful columns\n",
    "    weather_clean = weather_dirty[[\"DATE\", \"HourlyPrecipitation\", \"HourlyWindSpeed\"]]\n",
    "    \n",
    "    # Normalize the datetime column\n",
    "    weather_clean[\"DATE\"] = weather_clean[\"DATE\"].astype(\"datetime64[ns]\")\n",
    "    weather_clean[\"HourlyPrecipitation\"] = pd.to_numeric(weather_clean[\"HourlyPrecipitation\"], errors='coerce')\n",
    "    weather_clean[\"HourlyWindSpeed\"] = pd.to_numeric(weather_clean[\"HourlyWindSpeed\"], errors='coerce')\n",
    "    \n",
    "    # Normalize the hourlypercipitation column   \n",
    "    # Calculate the mean of hourly precipitation by skipping NaN values\n",
    "    mean_hourlypercipitation = weather_clean[\"HourlyPrecipitation\"].notna().mean()  \n",
    "    \n",
    "    # Replace the \"T\" values by 0 and NaN values by mean(calculated above)\n",
    "    weather_clean[\"HourlyPrecipitation\"] = weather_clean[\"HourlyPrecipitation\"].replace([\"T\", np.nan], [0, mean_hourlypercipitation])\n",
    "    \n",
    "    # Normalize the hourlywindspeed column\n",
    "    # Calculate the mean of hourly windspeed by skipping NaN values\n",
    "    mean_hourlywindspeed = weather_clean[\"HourlyWindSpeed\"].notna().mean()   \n",
    "    \n",
    "    # Replace NaN values by mean(calculated above)\n",
    "    weather_clean[\"HourlyWindSpeed\"] = weather_clean[\"HourlyWindSpeed\"].replace(np.nan, mean_hourlywindspeed)\n",
    "    \n",
    "    # Nomarlize the float columns\n",
    "    weather_clean[[\"HourlyPrecipitation\", \"HourlyWindSpeed\",]] = weather_clean[[\"HourlyPrecipitation\", \"HourlyWindSpeed\",]].astype(\"float64\")\n",
    "    \n",
    "    return weather_clean"
   ]
  },
  {
   "cell_type": "code",
   "execution_count": 20,
   "id": "0687581f",
   "metadata": {},
   "outputs": [],
   "source": [
    "def clean_month_weather_data_daily(csv_file):\n",
    "    # Get the cleaned WEATHER data in DAILIY \n",
    "    weather_hourly = clean_month_weather_data_hourly(csv_file)\n",
    "    \n",
    "    # Change the column name for daily use\n",
    "    weather_daily = pd.DataFrame().assign(Precipitation=weather_hourly['HourlyPrecipitation'], Windspeed=weather_hourly['HourlyWindSpeed'])\n",
    "    # Change the fitst column to data and calculate mean as the daily statistics\n",
    "    weather_daily[\"DATE\"] = weather_hourly[\"DATE\"].dt.date\n",
    "    \n",
    "    # There is a column originally contains the file called \"DailyWindSpeed\",\n",
    "    # but the Windspeed calculated using mean of DailyWindSpeed contains more\n",
    "    # information than the originaly one,\n",
    "    # we choose to use Windspeed calculated by np.mean and percipitation.\n",
    "    weather_daily = weather_daily.groupby('DATE').agg({'Precipitation': np.mean, 'Windspeed': np.mean})\n",
    "    \n",
    "    # Add a new index column\n",
    "    weather_daily = weather_daily.reset_index()\n",
    "    return weather_daily"
   ]
  },
  {
   "cell_type": "code",
   "execution_count": 21,
   "id": "3ef8945d",
   "metadata": {},
   "outputs": [],
   "source": [
    "def load_and_clean_weather_data():\n",
    "    # Create empty list to store value for both hourly weather data as well as daily's \n",
    "    hourly_dataframes = []\n",
    "    daily_dataframes = []\n",
    "    \n",
    "    weather_csv_files = [\"2009_weather.csv\", \"2010_weather.csv\", \"2011_weather.csv\",\n",
    "                        \"2012_weather.csv\", \"2013_weather.csv\", \"2014_weather.csv\", \"2015_weather.csv\"]\n",
    "    \n",
    "    for csv_file in weather_csv_files:\n",
    "        hourly_dataframe = clean_month_weather_data_hourly(csv_file)\n",
    "        daily_dataframe = clean_month_weather_data_daily(csv_file)\n",
    "        hourly_dataframes.append(hourly_dataframe)\n",
    "        daily_dataframes.append(daily_dataframe)\n",
    "        \n",
    "    # Create two dataframes with hourly & daily data from every month\n",
    "    hourly_data = pd.concat(hourly_dataframes)\n",
    "    daily_data = pd.concat(daily_dataframes)\n",
    "    \n",
    "    return hourly_data, daily_data"
   ]
  },
  {
   "cell_type": "markdown",
   "id": "f900f7aa",
   "metadata": {},
   "source": [
    "### Process All Data\n",
    "\n",
    "_This is where you can actually execute all the required functions._\n",
    "\n",
    "_**TODO:** Write some prose that tells the reader what you're about to do here._"
   ]
  },
  {
   "cell_type": "code",
   "execution_count": 22,
   "id": "bd8db9ea",
   "metadata": {},
   "outputs": [],
   "source": [
    "from tqdm import tqdm"
   ]
  },
  {
   "cell_type": "code",
   "execution_count": 23,
   "id": "f7cd53a6",
   "metadata": {},
   "outputs": [
    {
     "name": "stderr",
     "output_type": "stream",
     "text": [
      "100%|█████████████████████████████████████████| 78/78 [1:31:39<00:00, 70.50s/it]\n"
     ]
    }
   ],
   "source": [
    "taxi_data = get_and_clean_taxi_data()"
   ]
  },
  {
   "cell_type": "code",
   "execution_count": 25,
   "id": "72390fe0",
   "metadata": {},
   "outputs": [],
   "source": [
    "uber_data = get_uber_data()"
   ]
  },
  {
   "cell_type": "code",
   "execution_count": 26,
   "id": "42114ee9",
   "metadata": {},
   "outputs": [],
   "source": [
    "hourly_data, daily_data = load_and_clean_weather_data()"
   ]
  },
  {
   "cell_type": "markdown",
   "id": "dd101f11",
   "metadata": {},
   "source": [
    "## Part 2: Storing Cleaned Data\n",
    "\n",
    "_Write some prose that tells the reader what you're about to do here._"
   ]
  },
  {
   "cell_type": "code",
   "execution_count": 27,
   "id": "f3529cf6",
   "metadata": {},
   "outputs": [],
   "source": [
    "engine = db.create_engine(DATABASE_URL)"
   ]
  },
  {
   "cell_type": "code",
   "execution_count": 76,
   "id": "d2bea0ff",
   "metadata": {},
   "outputs": [],
   "source": [
    "# CREATE 4 tables in SQL\n",
    "# Each includes columns we need\n",
    "\n",
    "HOURLY_WEATHER_SCHEMA = \"\"\"\n",
    "        CREATE TABLE IF NOT EXISTS hourly_weather\n",
    "        (\n",
    "            id INTEGER PRIMARY KEY,\n",
    "            DATE DATE,\n",
    "            HourlyPrecipitation FLOAT,\n",
    "            HourlyWindSpeed FLOAT\n",
    "            );\n",
    "\"\"\"\n",
    "\n",
    "DAILY_WEATHER_SCHEMA = \"\"\"\n",
    "         CREATE TABLE IF NOT EXISTS daily_weather\n",
    "        (\n",
    "            id INTEGER PRIMARY KEY,\n",
    "            DATE DATE,\n",
    "            Precipitation FLOAT,\n",
    "            Windspeed FLOAT\n",
    "            );\n",
    "\"\"\"\n",
    "\n",
    "TAXI_TRIPS_SCHEMA = \"\"\"\n",
    "\n",
    "        CREATE TABLE IF NOT EXISTS taxi_trips\n",
    "        (\n",
    "            id INTEGER PRIMARY KEY,\n",
    "            pickup_datetime DATE,\n",
    "            dropoff_datetime DATE,\n",
    "            tip_amount FLOAT,\n",
    "            pickup_longitude FLOAT,\n",
    "            pickup_latitude FLOAT,\n",
    "            dropoff_longitude FLOAT,\n",
    "            dropoff_latitude FLOAT,\n",
    "            distance FLOAT\n",
    "            \n",
    "        );\n",
    "        \n",
    "\"\"\"\n",
    "\n",
    "UBER_TRIPS_SCHEMA = \"\"\"\n",
    "    CREATE TABLE IF NOT EXISTS uber_trips\n",
    "        (\n",
    "            id INTEGER PRIMARY KEY,\n",
    "            pickup_datetime DATE,\n",
    "            pickup_longitude FLOAT,\n",
    "            pickup_latitude FLOAT,\n",
    "            dropoff_longitude FLOAT,\n",
    "            dropoff_latitude FLOAT,\n",
    "            distance FLOAT\n",
    "            \n",
    "        );\n",
    "\"\"\""
   ]
  },
  {
   "cell_type": "code",
   "execution_count": 77,
   "id": "5f41e54b",
   "metadata": {},
   "outputs": [],
   "source": [
    "# create that required schema.sql file\n",
    "with open(DATABASE_SCHEMA_FILE, \"w\") as f:\n",
    "    f.write(HOURLY_WEATHER_SCHEMA)\n",
    "    f.write(DAILY_WEATHER_SCHEMA)\n",
    "    f.write(TAXI_TRIPS_SCHEMA)\n",
    "    f.write(UBER_TRIPS_SCHEMA)"
   ]
  },
  {
   "cell_type": "code",
   "execution_count": 78,
   "id": "02eccdba",
   "metadata": {},
   "outputs": [],
   "source": [
    "# create the tables with the schema files\n",
    "with engine.connect() as connection:\n",
    "    pass"
   ]
  },
  {
   "cell_type": "markdown",
   "id": "c122964f",
   "metadata": {},
   "source": [
    "### Add Data to Database\n",
    "\n",
    "_**TODO:** Write some prose that tells the reader what you're about to do here._"
   ]
  },
  {
   "cell_type": "code",
   "execution_count": 79,
   "id": "0e68a363",
   "metadata": {},
   "outputs": [],
   "source": [
    "def write_dataframes_to_table(table_to_df_dict):\n",
    "    for table, dataframe in table_to_df_dict.items():\n",
    "        dataframe.to_sql(table, engine, if_exists='append', index=False)"
   ]
  },
  {
   "cell_type": "code",
   "execution_count": 80,
   "id": "45d6c06c",
   "metadata": {},
   "outputs": [],
   "source": [
    "map_table_name_to_dataframe = {\n",
    "    \"taxi_trips\": taxi_data,\n",
    "    \"uber_trips\": uber_data,\n",
    "    \"hourly_weather\": hourly_data,\n",
    "    \"daily_weather\": daily_data,\n",
    "}"
   ]
  },
  {
   "cell_type": "code",
   "execution_count": 81,
   "id": "74004f96",
   "metadata": {},
   "outputs": [],
   "source": [
    "write_dataframes_to_table(map_table_name_to_dataframe)"
   ]
  },
  {
   "cell_type": "markdown",
   "id": "8cb6e33e",
   "metadata": {},
   "source": [
    "## Part 3: Understanding the Data"
   ]
  },
  {
   "cell_type": "markdown",
   "id": "b4753fcd",
   "metadata": {},
   "source": [
    "_A checklist of requirements to keep you on track. Remove this whole cell before submitting the project. The order of these tasks aren't necessarily the order in which they need to be done. It's okay to do them in an order that makes sense to you._\n",
    "\n",
    "* [ ] For 01-2009 through 06-2015, what hour of the day was the most popular to take a yellow taxi? The result should have 24 bins.\n",
    "* [ ] For the same time frame, what day of the week was the most popular to take an uber? The result should have 7 bins.\n",
    "* [ ] What is the 95% percentile of distance traveled for all hired trips during July 2013?\n",
    "* [ ] What were the top 10 days with the highest number of hired rides for 2009, and what was the average distance for each day?\n",
    "* [ ] Which 10 days in 2014 were the windiest, and how many hired trips were made on those days?\n",
    "* [ ] During Hurricane Sandy in NYC (Oct 29-30, 2012) and the week leading up to it, how many trips were taken each hour, and for each hour, how much precipitation did NYC receive and what was the sustained wind speed?"
   ]
  },
  {
   "cell_type": "code",
   "execution_count": 51,
   "id": "6a849e92",
   "metadata": {},
   "outputs": [],
   "source": [
    "def write_query_to_file(query, outfile):\n",
    "    with open(QUERY_DIRECTORY + '/' + outfile, \"w\") as f:\n",
    "        f.write(query)"
   ]
  },
  {
   "cell_type": "markdown",
   "id": "ee70a777",
   "metadata": {},
   "source": [
    "### Query 1\n",
    "\n",
    "_**TODO:** From 2009.1 to 2015.6, we aim to find out hours of the day that are most popular to take a YellowTaxi._\n",
    "\n"
   ]
  },
  {
   "cell_type": "code",
   "execution_count": 52,
   "id": "5addb1bd",
   "metadata": {},
   "outputs": [],
   "source": [
    "# We use taxi_trips table to select only hours in \"pickup_datetime\" Column and sum the count in each hour\n",
    "# Ordered by highest count to lowest count\n",
    "QUERY_1 = \"\"\"\n",
    "    SELECT strftime('%H', pickup_datetime) as hour_of_day, COUNT(*) AS frequency\n",
    "    FROM taxi_trips\n",
    "    GROUP BY hour_of_day\n",
    "    ORDER BY frequency DESC;\n",
    "\"\"\""
   ]
  },
  {
   "cell_type": "code",
   "execution_count": 53,
   "id": "5d2e6548",
   "metadata": {},
   "outputs": [
    {
     "data": {
      "text/plain": [
       "('19', 12484)"
      ]
     },
     "execution_count": 53,
     "metadata": {},
     "output_type": "execute_result"
    }
   ],
   "source": [
    "# Only pick the hour that is most popular to take Taxi\n",
    "# Result shows that the most popular time to take Taxi is 7 p.m.\n",
    "engine.execute(QUERY_1).fetchall()[0]"
   ]
  },
  {
   "cell_type": "code",
   "execution_count": 56,
   "id": "250b7ee5",
   "metadata": {},
   "outputs": [],
   "source": [
    "# Write into file\n",
    "write_query_to_file(QUERY_1, \"Taxi_popular_hour.sql\")"
   ]
  },
  {
   "cell_type": "markdown",
   "id": "e792a892",
   "metadata": {},
   "source": [
    "### Query 2\n",
    "\n",
    "_**TODO:** From 2009.1 to 2015.6, we aim to find out hours of the day that are most popular to take a UBER._\n"
   ]
  },
  {
   "cell_type": "code",
   "execution_count": 57,
   "id": "db871d3c",
   "metadata": {},
   "outputs": [],
   "source": [
    "# We use uber_trips table to select only hours in \"pickup_datetime\" Column and sum the count in each hour\n",
    "# Ordered by highest count to lowest count\n",
    "QUERY_2 = \"\"\"\n",
    "    SELECT strftime('%w', pickup_datetime) as day_of_week, COUNT(*) AS frequency\n",
    "    FROM uber_trips\n",
    "    GROUP BY day_of_week\n",
    "    ORDER BY frequency DESC;\n",
    "\"\"\""
   ]
  },
  {
   "cell_type": "code",
   "execution_count": 58,
   "id": "c5275f3a",
   "metadata": {},
   "outputs": [
    {
     "data": {
      "text/plain": [
       "('5', 331370)"
      ]
     },
     "execution_count": 58,
     "metadata": {},
     "output_type": "execute_result"
    }
   ],
   "source": [
    "# Only pick the hour that is most popular to take Uber\n",
    "# Result shows that the most popular time to take Taxi is 5 a.m.\n",
    "engine.execute(QUERY_2).fetchall()[0]"
   ]
  },
  {
   "cell_type": "code",
   "execution_count": 60,
   "id": "a2ef04df",
   "metadata": {},
   "outputs": [],
   "source": [
    "# Write into file\n",
    "write_query_to_file(QUERY_2, \"Uber_popular_day.sql\")"
   ]
  },
  {
   "cell_type": "markdown",
   "id": "1508e834",
   "metadata": {},
   "source": [
    "### Query 3\n",
    "\n",
    "**TODO:** We aim to calculate 95% percentile of distance traveled for all hired trips during July 2013"
   ]
  },
  {
   "cell_type": "code",
   "execution_count": 95,
   "id": "0f44f5bb",
   "metadata": {},
   "outputs": [],
   "source": [
    "# Step1: Union the distance in 'taxi_trips' and 'uber_trips' tables as a new table called 'hired_trips' during July 2013\n",
    "# Step2: Ordering the distance in 'hired_trips' table through longest distance to shortest\n",
    "# Step3: Only pick the longest 5 percentile data by limiting\n",
    "\n",
    "QUERY_3 = \"\"\" WITH hired_trips AS(\n",
    "        SELECT\n",
    "            distance\n",
    "        FROM taxi_trips\n",
    "        WHERE pickup_datetime BETWEEN '2013-07-01 00:00:00' AND '2013-07-31 24:00:00'\n",
    "        \n",
    "        UNION ALL\n",
    "        \n",
    "        SELECT \n",
    "            distance\n",
    "        FROM uber_trips\n",
    "        \n",
    "        WHERE pickup_datetime BETWEEN '2013-07-01 00:00:00' AND '2013-07-31 24:00:00')\n",
    "        \n",
    "        \n",
    "        SELECT distance\n",
    "        FROM hired_trips\n",
    "        ORDER BY distance DESC\n",
    "        LIMIT  (SELECT \n",
    "                COUNT(*) \n",
    "                FROM hired_trips) \n",
    "                * 5/100      \n",
    "        \"\"\""
   ]
  },
  {
   "cell_type": "code",
   "execution_count": 96,
   "id": "76e77f40",
   "metadata": {},
   "outputs": [
    {
     "data": {
      "text/plain": [
       "(25.213462829589844,)"
      ]
     },
     "execution_count": 96,
     "metadata": {},
     "output_type": "execute_result"
    }
   ],
   "source": [
    "# Since we selected the longest 5 percentile and we need the 95% percentile\n",
    "# we should choose the last one in the list\n",
    "engine.execute(QUERY_3).fetchall()[-1]"
   ]
  },
  {
   "cell_type": "code",
   "execution_count": 97,
   "id": "f63f2fdc",
   "metadata": {},
   "outputs": [],
   "source": [
    "# Write into file\n",
    "write_query_to_file(QUERY_3, \"nintyfive_percentile_distance.sql\")"
   ]
  },
  {
   "cell_type": "markdown",
   "id": "a775d7a6",
   "metadata": {},
   "source": [
    "### Query 4\n",
    "\n",
    "**TODO:** We aim to find out 10 days in 2009 with the highest number of hired rides, and the average distance for each day."
   ]
  },
  {
   "cell_type": "code",
   "execution_count": 98,
   "id": "a8285eac",
   "metadata": {},
   "outputs": [],
   "source": [
    "# Step1: Union the distance and pickup_datetime in 'taxi_trips' and 'uber_trips' tables as a new table called 'hired_trips'\n",
    "#        in 2009\n",
    "# Step2: Calculate average distance in each day \n",
    "# Step3: The data should be ordered by count of hired_trips from highest to lowest \n",
    "# Step4: limit into 10 days\n",
    "\n",
    "QUERY_4 = \"\"\" WITH hired_trips AS(\n",
    "        SELECT\n",
    "            distance,\n",
    "            pickup_datetime\n",
    "        FROM taxi_trips\n",
    "        WHERE pickup_datetime BETWEEN '2009-01-01 00:00:00' AND '2009-12-31 24:00:00'\n",
    "        \n",
    "        UNION ALL\n",
    "        \n",
    "        SELECT \n",
    "            distance,\n",
    "            pickup_datetime\n",
    "        FROM uber_trips\n",
    "        \n",
    "        WHERE pickup_datetime BETWEEN '2009-01-01 00:00:00' AND '209-12-31 24:00:00')\n",
    "        \n",
    "        \n",
    "        SELECT DATE(pickup_datetime) AS date, \n",
    "                AVG(distance) AS avgdistance,\n",
    "                count(*) as number_of_rides\n",
    "                \n",
    "        FROM hired_trips\n",
    "        GROUP BY date\n",
    "        ORDER BY number_of_rides DESC\n",
    "        LIMIT 10 \n",
    "        \n",
    "        \n",
    "        \"\"\""
   ]
  },
  {
   "cell_type": "code",
   "execution_count": 99,
   "id": "9ee1f20e",
   "metadata": {},
   "outputs": [
    {
     "data": {
      "text/plain": [
       "[('2009-04-18', 3.2839115309717455, 341),\n",
       " ('2009-09-25', 3.230270602841334, 332),\n",
       " ('2009-12-04', 2.8165812350561974, 331),\n",
       " ('2009-11-13', 2.6023554659428254, 321),\n",
       " ('2009-09-16', 2.9993398456640965, 318),\n",
       " ('2009-12-19', 3.1394177942542703, 314),\n",
       " ('2009-02-13', 3.4081405062424195, 314),\n",
       " ('2009-01-31', 2.753383362796276, 314),\n",
       " ('2009-07-23', 3.1894055169119757, 312),\n",
       " ('2009-07-30', 3.1967717631977544, 311)]"
      ]
     },
     "execution_count": 99,
     "metadata": {},
     "output_type": "execute_result"
    }
   ],
   "source": [
    "# Find out highest number of hired rides in 10 days in 2009\n",
    "engine.execute(QUERY_4).fetchall()"
   ]
  },
  {
   "cell_type": "code",
   "execution_count": 100,
   "id": "b13dc2a4",
   "metadata": {},
   "outputs": [],
   "source": [
    "# Write into file\n",
    "write_query_to_file(QUERY_4, \"highest_rides_ten_avgdistance.sql\")"
   ]
  },
  {
   "cell_type": "markdown",
   "id": "25a3fe21",
   "metadata": {},
   "source": [
    "### Query 5\n",
    "\n",
    "**TODO:** Find out 10 days in 2014 were the windiest on average, and hired trips were made in such days."
   ]
  },
  {
   "cell_type": "code",
   "execution_count": 101,
   "id": "51c13e3e",
   "metadata": {},
   "outputs": [],
   "source": [
    "# Step1: Change date in %Y-%m-%d format\n",
    "# Step2: Union 'taxi_trips' table and 'uber_trips' with Column 'date' and 'number_of_rides' into a table called 'hired_trips' from 2014\n",
    "# Step3: Inner join 'daily_weather' table with 'hired_trips' table on 'date' column\n",
    "# Step4: the date should be ordered by windspeed through highest to lowest \n",
    "# Step5: Retain the first 10 days\n",
    "\n",
    "QUERY_5 = \"\"\"\n",
    "        WITH hired_trips AS(\n",
    "        SELECT\n",
    "            DATE(pickup_datetime) AS DATE,\n",
    "            COUNT(*) as number_of_rides\n",
    "        FROM taxi_trips\n",
    "        WHERE pickup_datetime BETWEEN '2014-01-01 00:00:00' AND '2014-12-31 24:00:00'\n",
    "        GROUP BY DATE\n",
    "        \n",
    "        UNION ALL\n",
    "        \n",
    "        SELECT \n",
    "            DATE(pickup_datetime) AS DATE,\n",
    "            COUNT(*) as number_of_rides\n",
    "        FROM uber_trips\n",
    "        WHERE pickup_datetime BETWEEN '2014-01-01 00:00:00' AND '2014-12-31 24:00:00'\n",
    "        GROUP BY DATE\n",
    "        )\n",
    "              \n",
    "        SELECT DATE(daily_weather.DATE) as D,\n",
    "                hired_trips.number_of_rides\n",
    "              \n",
    "        FROM daily_weather\n",
    "            INNER JOIN hired_trips\n",
    "                ON daily_weather.DATE = hired_trips.DATE\n",
    "        WHERE D BETWEEN '2014-01-01' AND '2015-01-01'\n",
    "        GROUP BY D\n",
    "        ORDER BY daily_weather.WINDSPEED DESC\n",
    "        LIMIT 10 \n",
    "        \"\"\""
   ]
  },
  {
   "cell_type": "code",
   "execution_count": 102,
   "id": "5c58bf0d",
   "metadata": {},
   "outputs": [
    {
     "data": {
      "text/plain": [
       "[('2014-03-13', 180),\n",
       " ('2014-01-07', 192),\n",
       " ('2014-01-02', 134),\n",
       " ('2014-02-13', 114),\n",
       " ('2014-03-29', 210),\n",
       " ('2014-12-07', 168),\n",
       " ('2014-12-09', 176),\n",
       " ('2014-12-08', 154),\n",
       " ('2014-03-26', 154),\n",
       " ('2014-01-03', 116)]"
      ]
     },
     "execution_count": 102,
     "metadata": {},
     "output_type": "execute_result"
    }
   ],
   "source": [
    "# Find out the windest 10 days in 2014 with number of hired trips\n",
    "engine.execute(QUERY_5).fetchall()"
   ]
  },
  {
   "cell_type": "code",
   "execution_count": 42,
   "id": "a666f220",
   "metadata": {},
   "outputs": [],
   "source": [
    "write_query_to_file(QUERY_5, \"widest_trips.sql\")"
   ]
  },
  {
   "cell_type": "markdown",
   "id": "192208d3",
   "metadata": {},
   "source": [
    "### Query 6\n",
    "\n",
    "TODO: During Hurricane Sandy in NYC (Oct 29-30, 2012) and the week leading up to it, how many trips were taken each hour, and for each hour, how much precipitation did NYC receive and what was the sustained wind speed?"
   ]
  },
  {
   "cell_type": "code",
   "execution_count": 106,
   "id": "d9cba1b4",
   "metadata": {},
   "outputs": [],
   "source": [
    "# Step1: Use strftime function to transfer values in 'date' into 24 hours separately in date\n",
    "# Step2: Count number of rides group by each hour from 2012-10-22 to 2012-10-30\n",
    "# Step3: Union 'taxi_trips' table and 'uber_trips'to trips with 'hour_of_day' and 'number_of_rides' Column\n",
    "# Step4: Left join 'hourly_weather' table with 'trips' table \n",
    "# Step5: Group ('number_of_rides', 'precipitation', and 'windspeed') by each hours from 2012-10-22 to 2012-10-30\n",
    "\n",
    "\n",
    "QUERY_6 = \"\"\"\n",
    "        WITH trips AS (\n",
    "                SELECT strftime('%Y-%m-%d %H:00:00:00',pickup_datetime) as hour_of_day,\n",
    "                COUNT(*) AS number_of_rides\n",
    "                FROM taxi_trips\n",
    "                WHERE pickup_datetime BETWEEN '2012-10-22 00:00:00' AND '2012-10-30 24:00:00'\n",
    "                GROUP BY hour_of_day\n",
    "                \n",
    "                UNION ALL\n",
    "                \n",
    "                SELECT strftime('%Y-%m-%d %H:00:00:00',pickup_datetime) as hour_of_day,\n",
    "                COUNT(*) AS number_of_rides\n",
    "                FROM uber_trips\n",
    "                WHERE pickup_datetime BETWEEN '2012-10-22 00:00:00' AND '2012-10-30 24:00:00'\n",
    "                GROUP BY hour_of_day\n",
    "                )\n",
    "                \n",
    "                SELECT  strftime('%Y-%m-%d %H:00:00:00', hourly_weather.DATE) as hours,\n",
    "                        trips.number_of_rides,\n",
    "                        hourly_weather.HourlyPrecipitation as precipitation,\n",
    "                        hourly_weather.HourlyWindSpeed as windspeed\n",
    "                        \n",
    "                    FROM hourly_weather\n",
    "                        LEFT JOIN trips\n",
    "                            ON hours = hour_of_day\n",
    "                WHERE hours BETWEEN '2012-10-22 00:00:00' AND '2012-10-30 24:00:00'\n",
    "                GROUP BY hours\n",
    "\"\"\""
   ]
  },
  {
   "cell_type": "code",
   "execution_count": 107,
   "id": "21119c65",
   "metadata": {
    "scrolled": true
   },
   "outputs": [
    {
     "data": {
      "text/plain": [
       "[('2012-10-22 00:00:00:00', 2, 0.0, 7.0),\n",
       " ('2012-10-22 01:00:00:00', None, 0.0, 5.0),\n",
       " ('2012-10-22 02:00:00:00', 1, 0.0, 7.0),\n",
       " ('2012-10-22 03:00:00:00', 1, 0.0, 0.0),\n",
       " ('2012-10-22 04:00:00:00', None, 0.0, 0.0),\n",
       " ('2012-10-22 05:00:00:00', 1, 0.0, 0.0),\n",
       " ('2012-10-22 06:00:00:00', 3, 0.0, 5.0),\n",
       " ('2012-10-22 07:00:00:00', 4, 0.0, 3.0),\n",
       " ('2012-10-22 08:00:00:00', 1, 0.0, 3.0),\n",
       " ('2012-10-22 09:00:00:00', 5, 0.0, 5.0),\n",
       " ('2012-10-22 10:00:00:00', 3, 0.0, 0.9547325102880658),\n",
       " ('2012-10-22 11:00:00:00', 8, 0.0, 0.9547325102880658),\n",
       " ('2012-10-22 12:00:00:00', 4, 0.0, 11.0),\n",
       " ('2012-10-22 13:00:00:00', 8, 0.0, 0.9547325102880658),\n",
       " ('2012-10-22 14:00:00:00', 1, 0.0, 7.0),\n",
       " ('2012-10-22 15:00:00:00', 1, 0.0, 6.0),\n",
       " ('2012-10-22 16:00:00:00', 6, 0.0, 3.0),\n",
       " ('2012-10-22 17:00:00:00', 4, 0.0, 7.0),\n",
       " ('2012-10-22 18:00:00:00', 8, 0.0, 5.0),\n",
       " ('2012-10-22 19:00:00:00', 2, 0.0, 5.0),\n",
       " ('2012-10-22 20:00:00:00', 4, 0.0, 3.0),\n",
       " ('2012-10-22 21:00:00:00', 1, 0.0, 0.0),\n",
       " ('2012-10-22 22:00:00:00', 4, 0.0, 3.0),\n",
       " ('2012-10-22 23:00:00:00', 8, 0.0, 3.0),\n",
       " ('2012-10-23 00:00:00:00', 2, 0.42003367003367004, 3.0),\n",
       " ('2012-10-23 01:00:00:00', 1, 0.42003367003367004, 0.0),\n",
       " ('2012-10-23 02:00:00:00', 2, 0.42003367003367004, 3.0),\n",
       " ('2012-10-23 03:00:00:00', 2, 0.42003367003367004, 0.0),\n",
       " ('2012-10-23 04:00:00:00', 4, 0.42003367003367004, 3.0),\n",
       " ('2012-10-23 05:00:00:00', 2, 0.42003367003367004, 0.0),\n",
       " ('2012-10-23 06:00:00:00', 2, 0.42003367003367004, 0.0),\n",
       " ('2012-10-23 07:00:00:00', 7, 0.42003367003367004, 0.0),\n",
       " ('2012-10-23 08:00:00:00', 8, 0.42003367003367004, 0.0),\n",
       " ('2012-10-23 09:00:00:00', 5, 0.42003367003367004, 3.0),\n",
       " ('2012-10-23 10:00:00:00', 7, 0.42003367003367004, 0.0),\n",
       " ('2012-10-23 11:00:00:00', 6, 0.42003367003367004, 3.0),\n",
       " ('2012-10-23 12:00:00:00', 1, 0.42003367003367004, 0.0),\n",
       " ('2012-10-23 13:00:00:00', 5, 0.42003367003367004, 0.9547325102880658),\n",
       " ('2012-10-23 14:00:00:00', 6, 0.42003367003367004, 0.9547325102880658),\n",
       " ('2012-10-23 15:00:00:00', 4, 0.42003367003367004, 0.9547325102880658),\n",
       " ('2012-10-23 16:00:00:00', 1, 0.42003367003367004, 3.0),\n",
       " ('2012-10-23 18:00:00:00', 5, 0.42003367003367004, 5.0),\n",
       " ('2012-10-23 19:00:00:00', 2, 0.42003367003367004, 0.0),\n",
       " ('2012-10-23 20:00:00:00', 8, 0.02, 0.0),\n",
       " ('2012-10-23 21:00:00:00', 4, 0.42003367003367004, 5.0),\n",
       " ('2012-10-23 22:00:00:00', 6, 0.01, 0.0),\n",
       " ('2012-10-23 23:00:00:00', 3, 0.42003367003367004, 5.0),\n",
       " ('2012-10-24 00:00:00:00', 10, 0.0, 3.0),\n",
       " ('2012-10-24 01:00:00:00', 4, 0.42003367003367004, 6.0),\n",
       " ('2012-10-24 02:00:00:00', 4, 0.42003367003367004, 5.0),\n",
       " ('2012-10-24 03:00:00:00', 2, 0.0, 7.0),\n",
       " ('2012-10-24 04:00:00:00', None, 0.0, 7.0),\n",
       " ('2012-10-24 05:00:00:00', 2, 0.0, 6.0),\n",
       " ('2012-10-24 06:00:00:00', 14, 0.42003367003367004, 5.0),\n",
       " ('2012-10-24 07:00:00:00', 1, 0.42003367003367004, 5.0),\n",
       " ('2012-10-24 08:00:00:00', 2, 0.42003367003367004, 0.0),\n",
       " ('2012-10-24 09:00:00:00', 4, 0.42003367003367004, 0.0),\n",
       " ('2012-10-24 10:00:00:00', 2, 0.0, 7.0),\n",
       " ('2012-10-24 11:00:00:00', 4, 0.0, 7.0),\n",
       " ('2012-10-24 12:00:00:00', 3, 0.42003367003367004, 8.0),\n",
       " ('2012-10-24 13:00:00:00', 4, 0.0, 8.0),\n",
       " ('2012-10-24 14:00:00:00', 2, 0.42003367003367004, 6.0),\n",
       " ('2012-10-24 15:00:00:00', 4, 0.0, 7.0),\n",
       " ('2012-10-24 16:00:00:00', 2, 0.0, 8.0),\n",
       " ('2012-10-24 17:00:00:00', 5, 0.0, 5.0),\n",
       " ('2012-10-24 18:00:00:00', 4, 0.0, 7.0),\n",
       " ('2012-10-24 19:00:00:00', 5, 0.0, 8.0),\n",
       " ('2012-10-24 20:00:00:00', 7, 0.42003367003367004, 0.0),\n",
       " ('2012-10-24 21:00:00:00', 7, 0.42003367003367004, 3.0),\n",
       " ('2012-10-24 22:00:00:00', 5, 0.42003367003367004, 5.0),\n",
       " ('2012-10-24 23:00:00:00', 3, 0.0, 0.0),\n",
       " ('2012-10-25 00:00:00:00', 5, 0.42003367003367004, 6.0),\n",
       " ('2012-10-25 01:00:00:00', 1, 0.0, 3.0),\n",
       " ('2012-10-25 02:00:00:00', 2, 0.42003367003367004, 3.0),\n",
       " ('2012-10-25 03:00:00:00', 4, 0.42003367003367004, 6.0),\n",
       " ('2012-10-25 04:00:00:00', 1, 0.0, 6.0),\n",
       " ('2012-10-25 05:00:00:00', 2, 0.0, 0.0),\n",
       " ('2012-10-25 06:00:00:00', 4, 0.0, 5.0),\n",
       " ('2012-10-25 07:00:00:00', 3, 0.0, 6.0),\n",
       " ('2012-10-25 08:00:00:00', 6, 0.0, 5.0),\n",
       " ('2012-10-25 09:00:00:00', 2, 0.0, 3.0),\n",
       " ('2012-10-25 10:00:00:00', 2, 0.0, 6.0),\n",
       " ('2012-10-25 11:00:00:00', 5, 0.0, 0.0),\n",
       " ('2012-10-25 12:00:00:00', 7, 0.0, 6.0),\n",
       " ('2012-10-25 13:00:00:00', 3, 0.0, 0.0),\n",
       " ('2012-10-25 14:00:00:00', 3, 0.0, 5.0),\n",
       " ('2012-10-25 15:00:00:00', 4, 0.0, 5.0),\n",
       " ('2012-10-25 16:00:00:00', 1, 0.0, 0.0),\n",
       " ('2012-10-25 17:00:00:00', 4, 0.0, 3.0),\n",
       " ('2012-10-25 18:00:00:00', 4, 0.0, 0.0),\n",
       " ('2012-10-25 19:00:00:00', 1, 0.0, 0.0),\n",
       " ('2012-10-25 20:00:00:00', 13, 0.0, 3.0),\n",
       " ('2012-10-25 21:00:00:00', 8, 0.0, 3.0),\n",
       " ('2012-10-25 22:00:00:00', 6, 0.0, 3.0),\n",
       " ('2012-10-25 23:00:00:00', 3, 0.0, 0.0),\n",
       " ('2012-10-26 00:00:00:00', 2, 0.42003367003367004, 0.0),\n",
       " ('2012-10-26 01:00:00:00', 1, 0.0, 0.0),\n",
       " ('2012-10-26 02:00:00:00', 2, 0.0, 0.0),\n",
       " ('2012-10-26 03:00:00:00', 2, 0.0, 3.0),\n",
       " ('2012-10-26 04:00:00:00', 2, 0.0, 0.0),\n",
       " ('2012-10-26 05:00:00:00', 1, 0.0, 0.0),\n",
       " ('2012-10-26 06:00:00:00', 2, 0.0, 0.0),\n",
       " ('2012-10-26 07:00:00:00', 4, 0.0, 3.0),\n",
       " ('2012-10-26 08:00:00:00', 6, 0.0, 3.0),\n",
       " ('2012-10-26 09:00:00:00', 7, 0.0, 3.0),\n",
       " ('2012-10-26 10:00:00:00', 2, 0.0, 3.0),\n",
       " ('2012-10-26 11:00:00:00', 4, 0.0, 3.0),\n",
       " ('2012-10-26 12:00:00:00', 2, 0.0, 0.0),\n",
       " ('2012-10-26 13:00:00:00', 7, 0.0, 3.0),\n",
       " ('2012-10-26 14:00:00:00', 5, 0.0, 3.0),\n",
       " ('2012-10-26 15:00:00:00', 3, 0.0, 0.0),\n",
       " ('2012-10-26 16:00:00:00', 2, 0.0, 0.0),\n",
       " ('2012-10-26 17:00:00:00', 3, 0.0, 0.0),\n",
       " ('2012-10-26 18:00:00:00', 3, 0.0, 0.0),\n",
       " ('2012-10-26 19:00:00:00', 5, 0.0, 0.0),\n",
       " ('2012-10-26 20:00:00:00', 10, 0.0, 3.0),\n",
       " ('2012-10-26 21:00:00:00', 4, 0.0, 3.0),\n",
       " ('2012-10-26 22:00:00:00', 8, 0.0, 0.0),\n",
       " ('2012-10-26 23:00:00:00', 4, 0.0, 0.0),\n",
       " ('2012-10-27 00:00:00:00', 6, 0.0, 3.0),\n",
       " ('2012-10-27 01:00:00:00', 3, 0.0, 0.0),\n",
       " ('2012-10-27 02:00:00:00', 6, 0.0, 3.0),\n",
       " ('2012-10-27 03:00:00:00', 4, 0.0, 0.0),\n",
       " ('2012-10-27 04:00:00:00', 12, 0.0, 6.0),\n",
       " ('2012-10-27 05:00:00:00', 2, 0.0, 6.0),\n",
       " ('2012-10-27 06:00:00:00', 1, 0.0, 6.0),\n",
       " ('2012-10-27 07:00:00:00', 1, 0.42003367003367004, 5.0),\n",
       " ('2012-10-27 08:00:00:00', None, 0.42003367003367004, 5.0),\n",
       " ('2012-10-27 09:00:00:00', 2, 0.0, 6.0),\n",
       " ('2012-10-27 10:00:00:00', 2, 0.42003367003367004, 7.0),\n",
       " ('2012-10-27 11:00:00:00', 1, 0.42003367003367004, 5.0),\n",
       " ('2012-10-27 12:00:00:00', 2, 0.0, 8.0),\n",
       " ('2012-10-27 13:00:00:00', 2, 0.0, 8.0),\n",
       " ('2012-10-27 14:00:00:00', 3, 0.0, 10.0),\n",
       " ('2012-10-27 15:00:00:00', 3, 0.0, 10.0),\n",
       " ('2012-10-27 16:00:00:00', 6, 0.0, 7.0),\n",
       " ('2012-10-27 17:00:00:00', 2, 0.0, 7.0),\n",
       " ('2012-10-27 18:00:00:00', 7, 0.0, 7.0),\n",
       " ('2012-10-27 19:00:00:00', 6, 0.42003367003367004, 8.0),\n",
       " ('2012-10-27 20:00:00:00', 6, 0.0, 7.0),\n",
       " ('2012-10-27 21:00:00:00', 6, 0.0, 9.0),\n",
       " ('2012-10-27 22:00:00:00', 7, 0.0, 9.0),\n",
       " ('2012-10-27 23:00:00:00', 8, 0.0, 8.0),\n",
       " ('2012-10-28 00:00:00:00', 6, 0.0, 11.0),\n",
       " ('2012-10-28 01:00:00:00', 8, 0.0, 8.0),\n",
       " ('2012-10-28 02:00:00:00', 3, 0.0, 8.0),\n",
       " ('2012-10-28 03:00:00:00', 3, 0.0, 9.0),\n",
       " ('2012-10-28 04:00:00:00', 4, 0.0, 10.0),\n",
       " ('2012-10-28 05:00:00:00', 1, 0.0, 11.0),\n",
       " ('2012-10-28 06:00:00:00', 4, 0.42003367003367004, 10.0),\n",
       " ('2012-10-28 07:00:00:00', 2, 0.0, 11.0),\n",
       " ('2012-10-28 08:00:00:00', 1, 0.0, 11.0),\n",
       " ('2012-10-28 09:00:00:00', 4, 0.0, 11.0),\n",
       " ('2012-10-28 10:00:00:00', 2, 0.0, 10.0),\n",
       " ('2012-10-28 11:00:00:00', 2, 0.0, 8.0),\n",
       " ('2012-10-28 12:00:00:00', 2, 0.0, 7.0),\n",
       " ('2012-10-28 13:00:00:00', 3, 0.0, 13.0),\n",
       " ('2012-10-28 14:00:00:00', 5, 0.0, 13.0),\n",
       " ('2012-10-28 15:00:00:00', 6, 0.0, 13.0),\n",
       " ('2012-10-28 16:00:00:00', 4, 0.0, 16.0),\n",
       " ('2012-10-28 17:00:00:00', 2, 0.0, 11.0),\n",
       " ('2012-10-28 18:00:00:00', 2, 0.0, 15.0),\n",
       " ('2012-10-28 19:00:00:00', 2, 0.0, 14.0),\n",
       " ('2012-10-28 20:00:00:00', 4, 0.0, 16.0),\n",
       " ('2012-10-28 21:00:00:00', 3, 0.0, 14.0),\n",
       " ('2012-10-28 22:00:00:00', 2, 0.0, 16.0),\n",
       " ('2012-10-28 23:00:00:00', 1, 0.0, 14.0),\n",
       " ('2012-10-29 00:00:00:00', 1, 0.0, 16.0),\n",
       " ('2012-10-29 01:00:00:00', None, 0.0, 11.0),\n",
       " ('2012-10-29 02:00:00:00', 1, 0.0, 13.0),\n",
       " ('2012-10-29 03:00:00:00', None, 0.0, 17.0),\n",
       " ('2012-10-29 04:00:00:00', 1, 0.0, 15.0),\n",
       " ('2012-10-29 05:00:00:00', None, 0.0, 15.0),\n",
       " ('2012-10-29 06:00:00:00', 2, 0.02, 16.0),\n",
       " ('2012-10-29 07:00:00:00', 1, 0.02, 17.0),\n",
       " ('2012-10-29 08:00:00:00', 2, 0.42003367003367004, 21.0),\n",
       " ('2012-10-29 09:00:00:00', 1, 0.0, 16.0),\n",
       " ('2012-10-29 10:00:00:00', 2, 0.42003367003367004, 0.9547325102880658),\n",
       " ('2012-10-29 11:00:00:00', 3, 0.42003367003367004, 21.0),\n",
       " ('2012-10-29 12:00:00:00', 4, 0.02, 15.0),\n",
       " ('2012-10-29 13:00:00:00', 4, 0.02, 24.0),\n",
       " ('2012-10-29 14:00:00:00', 2, 0.03, 23.0),\n",
       " ('2012-10-29 15:00:00:00', 2, 0.07, 26.0),\n",
       " ('2012-10-29 16:00:00:00', 2, 0.1, 23.0),\n",
       " ('2012-10-29 17:00:00:00', 1, 0.04, 29.0),\n",
       " ('2012-10-29 18:00:00:00', 3, 0.02, 21.0),\n",
       " ('2012-10-29 19:00:00:00', 2, 0.01, 25.0),\n",
       " ('2012-10-29 20:00:00:00', None, 0.42003367003367004, 17.0),\n",
       " ('2012-10-29 21:00:00:00', 1, 0.0, 15.0),\n",
       " ('2012-10-29 22:00:00:00', 2, 0.02, 9.0),\n",
       " ('2012-10-29 23:00:00:00', None, 0.03, 7.0),\n",
       " ('2012-10-30 00:00:00:00', 1, 0.03, 13.0),\n",
       " ('2012-10-30 01:00:00:00', 2, 0.42003367003367004, 13.0),\n",
       " ('2012-10-30 02:00:00:00', None, 0.03, 9.0),\n",
       " ('2012-10-30 03:00:00:00', None, 0.04, 17.0),\n",
       " ('2012-10-30 04:00:00:00', 1, 0.42003367003367004, 9.0),\n",
       " ('2012-10-30 05:00:00:00', None, 0.01, 7.0),\n",
       " ('2012-10-30 06:00:00:00', None, 0.01, 7.0),\n",
       " ('2012-10-30 07:00:00:00', 2, 0.42003367003367004, 10.0),\n",
       " ('2012-10-30 08:00:00:00', 2, 0.01, 11.0),\n",
       " ('2012-10-30 09:00:00:00', 2, 0.01, 15.0),\n",
       " ('2012-10-30 10:00:00:00', 2, 0.02, 8.0),\n",
       " ('2012-10-30 11:00:00:00', 2, 0.0, 7.0),\n",
       " ('2012-10-30 12:00:00:00', 2, 0.42003367003367004, 9.0),\n",
       " ('2012-10-30 13:00:00:00', 3, 0.42003367003367004, 7.0),\n",
       " ('2012-10-30 14:00:00:00', 1, 0.42003367003367004, 0.9547325102880658),\n",
       " ('2012-10-30 15:00:00:00', 3, 0.42003367003367004, 0.9547325102880658),\n",
       " ('2012-10-30 16:00:00:00', 1, 0.01, 3.0),\n",
       " ('2012-10-30 17:00:00:00', 3, 0.42003367003367004, 6.0),\n",
       " ('2012-10-30 18:00:00:00', 2, 0.0, 5.0),\n",
       " ('2012-10-30 19:00:00:00', 4, 0.0, 3.0),\n",
       " ('2012-10-30 20:00:00:00', 2, 0.42003367003367004, 0.0),\n",
       " ('2012-10-30 21:00:00:00', 2, 0.0, 5.0),\n",
       " ('2012-10-30 22:00:00:00', 3, 0.0, 7.0),\n",
       " ('2012-10-30 23:00:00:00', 2, 0.42003367003367004, 5.0)]"
      ]
     },
     "execution_count": 107,
     "metadata": {},
     "output_type": "execute_result"
    }
   ],
   "source": [
    "engine.execute(QUERY_6).fetchall()"
   ]
  },
  {
   "cell_type": "code",
   "execution_count": 108,
   "id": "18a4c15b",
   "metadata": {},
   "outputs": [],
   "source": [
    "write_query_to_file(QUERY_5, \"every_hour_trips.sql\")"
   ]
  },
  {
   "cell_type": "markdown",
   "id": "a13ced42",
   "metadata": {},
   "source": [
    "## Part 4: Visualizing the Data\n",
    "\n",
    "_A checklist of requirements to keep you on track. Remove this whole cell before submitting the project. The order of these tasks aren't necessarily the order in which they need to be done. It's okay to do them in an order that makes sense to you._\n",
    "\n",
    "* [ ] Create an appropriate visualization for the first query/question in part 3\n",
    "* [ ] Create a visualization that shows the average distance traveled per month (regardless of year - so group by each month). Include the 90% confidence interval around the mean in the visualization\n",
    "* [ ] Define three lat/long coordinate boxes around the three major New York airports: LGA, JFK, and EWR (you can use bboxfinder to help). Create a visualization that compares what day of the week was most popular for drop offs for each airport.\n",
    "* [ ] Create a heatmap of all hired trips over a map of the area. Consider using KeplerGL or another library that helps generate geospatial visualizations.\n",
    "* [ ] Create a scatter plot that compares tip amount versus distance.\n",
    "* [ ] Create another scatter plot that compares tip amount versus precipitation amount.\n",
    "\n",
    "_Be sure these cells are executed so that the visualizations are rendered when the notebook is submitted._"
   ]
  },
  {
   "cell_type": "markdown",
   "id": "6d9eef42",
   "metadata": {},
   "source": [
    "### Visualization 1\n",
    "\n",
    "_**TODO:** From 2009.1 to 2015.6, we aim to visualize the number of trips taken among 24 hours of the day for YellowTaxi._"
   ]
  },
  {
   "cell_type": "code",
   "execution_count": 164,
   "id": "dcb68645",
   "metadata": {},
   "outputs": [],
   "source": [
    "def plot_taxi_trips(dataframe):\n",
    "    # using dataframe.plot to plot the table\n",
    "    # giving the title, x label, y label needed for the graph\n",
    "    plot_title = \"The Number of Taxi Trips Per Hour\"\n",
    "    plot_xlabel =\"Hour of the Day\"\n",
    "    plot_ylabel = \"Number of Trips\"\n",
    "    # provide the x and y and the kind the graph needed as argument for the function\n",
    "    c = plt.get_cmap('tab20c').colors\n",
    "    dataframe.plot(x = \"hour_of_day\", y = \"frequency\", title = plot_title, xlabel = plot_xlabel, ylabel = plot_ylabel, kind = \"bar\", color = c)"
   ]
  },
  {
   "cell_type": "code",
   "execution_count": 47,
   "id": "62053d1d",
   "metadata": {},
   "outputs": [],
   "source": [
    "def get_data_for_taxi_trips():\n",
    "    # get the dataframe from part3_query1\n",
    "    dataframe = pd.read_sql_query(QUERY_1, engine)\n",
    "    # sort the dataframe in order to have a better plot\n",
    "    sorted_dataframe = dataframe.sort_values(by = \"hour_of_day\")\n",
    "    return sorted_dataframe"
   ]
  },
  {
   "cell_type": "code",
   "execution_count": 165,
   "id": "3c63e845",
   "metadata": {},
   "outputs": [
    {
     "data": {
      "image/png": "[encoded data removed]",
      "text/plain": [
       "<Figure size 432x288 with 1 Axes>"
      ]
     },
     "metadata": {
      "needs_background": "light"
     },
     "output_type": "display_data"
    }
   ],
   "source": [
    "taxi_trips_dataframe = get_data_for_taxi_trips()\n",
    "plot_taxi_trips(taxi_trips_dataframe)"
   ]
  },
  {
   "cell_type": "markdown",
   "id": "856e9488",
   "metadata": {},
   "source": [
    "### Visualization 2\n",
    "\n",
    "_**TODO:** We aim to show the average distance traveled per month(regardless of the year) using combined statistics from Taxi and Uber. Also, we would include 90% confidence interval around the mean._"
   ]
  },
  {
   "cell_type": "code",
   "execution_count": 162,
   "id": "f693f0cd",
   "metadata": {},
   "outputs": [],
   "source": [
    "def plot_avg_distance(dataframe):\n",
    "    # using dataframe.plot to plot the table\n",
    "    # giving the title, x label, y label needed for the graph\n",
    "    plot_title = \"Average Distance Traveled Per Month\"\n",
    "    plot_xlabel =\"Month of the Year\"\n",
    "    plot_ylabel = \"Average Distance Traveled\"\n",
    "    # provide the x, y, 90% CI and the kind the graph needed as argument for the function\n",
    "    c = plt.get_cmap('tab20c').colors\n",
    "    dataframe.plot(use_index = True, y = \"avgdistance\", yerr = \"CI\", title = plot_title, xlabel = plot_xlabel, ylabel = plot_ylabel, kind = \"bar\", color = c)"
   ]
  },
  {
   "cell_type": "code",
   "execution_count": 50,
   "id": "4c3b1d5b",
   "metadata": {},
   "outputs": [],
   "source": [
    "def get_data_for_avg_distance():\n",
    "    # get the dataframe from a new query \n",
    "    # which generate the average distance traveled per month\n",
    "    query_avg_distance = \"\"\"\n",
    "    WITH hired_trips AS(\n",
    "        SELECT \n",
    "            SUM(distance) as d,\n",
    "            pickup_datetime\n",
    "        FROM uber_trips\n",
    "        GROUP BY  pickup_datetime\n",
    "        \n",
    "        UNION\n",
    "        \n",
    "        SELECT\n",
    "            SUM(distance) as d,\n",
    "            pickup_datetime\n",
    "        FROM taxi_trips\n",
    "        GROUP BY  pickup_datetime)\n",
    "\n",
    "        \n",
    "        \n",
    "        SELECT strftime('%m', pickup_datetime) as m,\n",
    "               AVG(dis) AS avgdistance,\n",
    "               SQRT(AVG(dis*dis) - AVG(dis)*AVG(dis)) AS stddistance\n",
    "        FROM (\n",
    "            SELECT \n",
    "                sum(d) as dis,\n",
    "                pickup_datetime\n",
    "                \n",
    "                FROM hired_trips\n",
    "                GROUP BY strftime('%Y-%m', pickup_datetime)\n",
    "        )\n",
    "        \n",
    "        GROUP BY m       \n",
    "    \"\"\"\n",
    "    dataframe = pd.read_sql_query(query_avg_distance, engine)\n",
    "    # equation for calculating 90% CI as a new column\n",
    "    # using mean and standard deviation \n",
    "    dataframe[\"CI\"] = 2 * (dataframe[\"stddistance\"]/sqrt(dataframe.shape[0]) * 1.645)\n",
    "    return dataframe"
   ]
  },
  {
   "cell_type": "code",
   "execution_count": 163,
   "id": "8598166c",
   "metadata": {},
   "outputs": [
    {
     "data": {
      "image/png": "[encoded data removed]",
      "text/plain": [
       "<Figure size 432x288 with 1 Axes>"
      ]
     },
     "metadata": {
      "needs_background": "light"
     },
     "output_type": "display_data"
    }
   ],
   "source": [
    "avg_dist_dataframe = get_data_for_avg_distance()\n",
    "plot_avg_distance(avg_dist_dataframe)"
   ]
  },
  {
   "cell_type": "markdown",
   "id": "b3e09ff0",
   "metadata": {},
   "source": [
    "### Visualization 3\n",
    "\n",
    "_**TODO:** We aim to find the most popular day of the week for drop offs for LGA, JFK, and EWR._"
   ]
  },
  {
   "cell_type": "code",
   "execution_count": 160,
   "id": "c18b056c",
   "metadata": {},
   "outputs": [],
   "source": [
    "def plot_airports(dataframe):\n",
    "    # using dataframe.plot to plot the table\n",
    "    # giving the title, x label, y label needed for the graph\n",
    "    plot_title = \"Average Distance Traveled Per Month\"\n",
    "    plot_xlabel =\"Month of the Year\"\n",
    "    plot_ylabel = \"Average Distance Traveled\"\n",
    "    # provide the x and y and the kind the graph needed as argument for the function\n",
    "    c = plt.get_cmap('tab20c').colors\n",
    "    dataframe.plot(y=[\"LGA\", \"JFK\", \"EWR\"], kind=\"bar\", use_index=True, color = (c[6],c[12],c[18]))"
   ]
  },
  {
   "cell_type": "code",
   "execution_count": 53,
   "id": "fb4b28dd",
   "metadata": {},
   "outputs": [],
   "source": [
    "def get_data_for_airports():\n",
    "    # get the dataframe from a new query \n",
    "    # which generate the drop offs in LGA, JFK, and EWR.\n",
    "    \n",
    "    # first define the dropoff_longitude and dropoff_latitude within the LGA, JFK, and EWR.\n",
    "    LGA = [[-73.889751, -73.854561], [40.765652, 40.786261]]\n",
    "    JFK = [[-73.823427, -73.747209], [40.619788, 40.666679]]\n",
    "    EWR = [[-74.184328, -74.151241], [40.668766, 40.709898]]\n",
    "    airport = [LGA, JFK, EWR]\n",
    "    \n",
    "    # set up a dataframe to store the number of trips for each airport\n",
    "    column_names = [\"LGA\", \"JFK\", \"EWR\"]\n",
    "    dataframe = pd.DataFrame(index = [i for i in range(1,8)])\n",
    "    dataframe.index.name = \"Month\"\n",
    "    \n",
    "    # use for loop to walk through every airport\n",
    "    # \n",
    "    for i in [0, 1, 2]:\n",
    "        query_popular_day = f\"\"\"\n",
    "            WITH trips AS(\n",
    "                SELECT\n",
    "                 dropoff_longitude, dropoff_latitude,\n",
    "                 strftime('%w', pickup_datetime) AS DAY \n",
    "                FROM uber_trips\n",
    "                 \n",
    "                UNION\n",
    "                \n",
    "                SELECT\n",
    "                 dropoff_longitude, dropoff_latitude,\n",
    "                 strftime('%w', pickup_datetime) AS DAY \n",
    "                FROM taxi_trips)\n",
    "            SELECT\n",
    "                DAY, COUNT (*) AS num_trips\n",
    "            FROM trips\n",
    "            WHERE dropoff_longitude BETWEEN {airport[i][0][0]} AND {airport[i][0][1]} AND dropoff_latitude BETWEEN {airport[i][1][0]} AND {airport[i][1][1]}\n",
    "            GROUP BY DAY\n",
    "        \"\"\"\n",
    "        num = engine.execute(query_popular_day).fetchall()\n",
    "        num_airport = [x[1] for x in num]\n",
    "        dataframe[column_names[i]] = num_airport\n",
    "    return dataframe"
   ]
  },
  {
   "cell_type": "code",
   "execution_count": 161,
   "id": "10b749a7",
   "metadata": {
    "scrolled": true
   },
   "outputs": [
    {
     "data": {
      "image/png": "[encoded data removed]",
      "text/plain": [
       "<Figure size 432x288 with 1 Axes>"
      ]
     },
     "metadata": {
      "needs_background": "light"
     },
     "output_type": "display_data"
    }
   ],
   "source": [
    "num_for_airports = get_data_for_airports()\n",
    "plot_airports(num_for_airports)"
   ]
  },
  {
   "cell_type": "markdown",
   "id": "44410e55",
   "metadata": {},
   "source": [
    "### Visualization 4\n",
    "\n",
    "_**TODO:** We aim to create a heatmap of all hired trips over a map of the area._"
   ]
  },
  {
   "cell_type": "code",
   "execution_count": 114,
   "id": "11448820",
   "metadata": {},
   "outputs": [],
   "source": [
    "def plot_trips_heatmap(dataframe):\n",
    "    # To illustrate Column(\"PULocationID\" and \"DOLocationID\") in Coordinates\n",
    "    taxi_zone = gpd.read_file('taxi_zones.zip')\n",
    "    taxi_zone = taxi_zone.to_crs(4326)\n",
    "    taxi_zone[\"longitude\"] = taxi_zone.centroid.x\n",
    "    taxi_zone[\"latitude\"] = taxi_zone.centroid.y\n",
    "    \n",
    "    # Get a new column named \"zone\" as the sum of \n",
    "    # absolute value of \"longitude\" and \"latitude\"\n",
    "    taxi_zone[\"zone\"] = taxi_zone[\"latitude\"] + abs(taxi_zone[\"longitude\"])\n",
    "    \n",
    "    # Derive pickup statistics from given dataframe\n",
    "    pickup_trips = dataframe\n",
    "    \n",
    "    # Get a new column named \"zone\" as the sum of \n",
    "    # absolute value of \"longitude\" and \"latitude\"\n",
    "    pickup_trips[\"zone\"] = pickup_trips.iloc[:,0] + abs(pickup_trips.iloc[:,1])\n",
    "    \n",
    "    # Sort two dataframes in order to help merging in the next step\n",
    "    taxi_zone = taxi_zone.sort_values(by = \"zone\")\n",
    "    pickup_trips = pickup_trips.sort_values(by = \"zone\")\n",
    "    \n",
    "    # Merge two tables together using the \"zone\" column\n",
    "    trips_zone = pd.merge_asof(pickup_trips, taxi_zone, left_on=[\"zone\"],right_on=[\"zone\"])\n",
    "    trips_zone = trips_zone.dropna()\n",
    "    \n",
    "    # Group by \"LocationID\" to count the number of trips in each zone\n",
    "    # and given the number of frequency as a new column \"count\"\n",
    "    taxi_zone['count'] = trips_zone.groupby(\"LocationID\").count()['zone']\n",
    "    \n",
    "    # Plot the heatmap \n",
    "    taxi_zone.plot(column='count', cmap='coolwarm', legend=False)\n",
    "    plt.axis('off')\n",
    "    plt.show()"
   ]
  },
  {
   "cell_type": "code",
   "execution_count": 119,
   "id": "7f07aaac",
   "metadata": {},
   "outputs": [],
   "source": [
    "def get_data_for_heatmap():\n",
    "    query_pickup_heatmap = \"\"\"\n",
    "            WITH hired_trips AS(\n",
    "            SELECT pickup_latitude, pickup_longitude\n",
    "            FROM taxi_trips\n",
    "            \n",
    "            UNION\n",
    "            \n",
    "            SELECT pickup_latitude, pickup_longitude\n",
    "            FROM uber_trips\n",
    "            )\n",
    "            \n",
    "            SELECT *\n",
    "            FROM hired_trips\n",
    "            GROUP BY pickup_latitude, pickup_longitude\n",
    "    \"\"\" \n",
    "    \n",
    "    query_dropoff_heatmap = \"\"\"\n",
    "            WITH hired_trips AS(\n",
    "            SELECT dropoff_latitude, dropoff_longitude\n",
    "            FROM taxi_trips\n",
    "            \n",
    "            UNION\n",
    "            \n",
    "            SELECT dropoff_latitude, dropoff_longitude\n",
    "            FROM uber_trips\n",
    "            )\n",
    "            \n",
    "            SELECT *\n",
    "            FROM hired_trips\n",
    "            GROUP BY dropoff_latitude, dropoff_longitude\n",
    "    \"\"\" \n",
    "    df_pickup = pd.read_sql_query(query_pickup_heatmap, engine)\n",
    "    df_dropoff = pd.read_sql_query(query_dropoff_heatmap, engine)\n",
    "    return df_pickup, df_dropoff"
   ]
  },
  {
   "cell_type": "code",
   "execution_count": 120,
   "id": "13ecfc28",
   "metadata": {},
   "outputs": [
    {
     "data": {
      "image/png": "[encoded data removed]",
      "text/plain": [
       "<Figure size 432x288 with 1 Axes>"
      ]
     },
     "metadata": {
      "needs_background": "light"
     },
     "output_type": "display_data"
    }
   ],
   "source": [
    "# plot heatmap for pickup trips\n",
    "pickup_trips = get_data_for_heatmap()[0]\n",
    "plot_trips_heatmap(pickup_trips)"
   ]
  },
  {
   "cell_type": "code",
   "execution_count": 121,
   "id": "780a3478",
   "metadata": {},
   "outputs": [
    {
     "data": {
      "image/png": "[encoded data removed]",
      "text/plain": [
       "<Figure size 432x288 with 1 Axes>"
      ]
     },
     "metadata": {
      "needs_background": "light"
     },
     "output_type": "display_data"
    }
   ],
   "source": [
    "# plot heatmap for dropoff trips\n",
    "dropoff_trips = get_data_for_heatmap()[1]\n",
    "plot_trips_heatmap(dropoff_trips)"
   ]
  },
  {
   "cell_type": "markdown",
   "id": "15920997",
   "metadata": {},
   "source": [
    "### Visualization 5\n",
    "\n",
    "_**TODO:** We aim to create a scatter plot compares tip amount versus distance for Taxi rides._"
   ]
  },
  {
   "cell_type": "code",
   "execution_count": 139,
   "id": "d6233ee2",
   "metadata": {},
   "outputs": [],
   "source": [
    "def plot_tip_dist(dataframe):\n",
    "    # provide dataframe to plot\n",
    "    colors = np.random.rand(len(dataframe))\n",
    "    plt.scatter(dataframe[\"tip_amount\"], dataframe[\"distance\"], c=colors)\n",
    "    # set title and labels\n",
    "    plt.title(\"Tip Amount Versus Distance for Taxi Trips\")\n",
    "    plt.xlabel(\"Tip Amount\")\n",
    "    plt.ylabel(\"Distance\")"
   ]
  },
  {
   "cell_type": "code",
   "execution_count": 131,
   "id": "ff26a42d",
   "metadata": {},
   "outputs": [],
   "source": [
    "def get_tip_dist():\n",
    "    query_tip_dist = \"\"\"\n",
    "            SELECT tip_amount, distance\n",
    "            FROM taxi_trips\n",
    "    \"\"\"\n",
    "    dataframe = pd.read_sql_query(query_tip_dist, engine)\n",
    "    \n",
    "    # remove outliers in order to have a better scatter plot\n",
    "    # which are trips with tip amount lager than 30\n",
    "    # and distance larger than 50\n",
    "    dataframe = dataframe[dataframe[\"tip_amount\"] < 30]\n",
    "    dataframe = dataframe[dataframe[\"distance\"] < 50]\n",
    "    return dataframe"
   ]
  },
  {
   "cell_type": "code",
   "execution_count": 140,
   "id": "9a0f1944",
   "metadata": {},
   "outputs": [
    {
     "data": {
      "image/png": "[encoded data removed]",
      "text/plain": [
       "<Figure size 432x288 with 1 Axes>"
      ]
     },
     "metadata": {
      "needs_background": "light"
     },
     "output_type": "display_data"
    }
   ],
   "source": [
    "tip_dist = get_tip_dist()\n",
    "plot_tip_dist(tip_dist)"
   ]
  },
  {
   "cell_type": "markdown",
   "id": "78ddbbc6",
   "metadata": {},
   "source": [
    "### Visualization 6\n",
    "\n",
    "_**TODO:** We aim to create a scatter plot compares tip amount versus precipitation amount for Yellow Taxi rides._"
   ]
  },
  {
   "cell_type": "code",
   "execution_count": 92,
   "id": "a86215c3",
   "metadata": {},
   "outputs": [],
   "source": [
    "def plot_tip_precipitation(dataframe):\n",
    "    # provide dataframe to plot\n",
    "    colors = np.random.rand(len(dataframe))\n",
    "    # create a scatter plot for tip amount versus precipitation\n",
    "    # using given dataframe\n",
    "    plt.scatter(dataframe[\"tip_amount\"], dataframe[\"Precipitation\"], c=colors)\n",
    "    # set title and labels\n",
    "    plt.title(\"Tip Amount Versus Precipitation for Yellow Taxi Rides\")\n",
    "    plt.xlabel(\"Tip Amount\")\n",
    "    plt.ylabel(\"Precipitation\")"
   ]
  },
  {
   "cell_type": "code",
   "execution_count": 93,
   "id": "9751542a",
   "metadata": {},
   "outputs": [],
   "source": [
    "def get_tip_precipitation():\n",
    "    # get the dataframe with only two columns:\n",
    "    # tip_amount(from taxi_trips) and Precipitation(from daily_weather)\n",
    "    # for the same day\n",
    "    query_tip_precipitation = \"\"\"\n",
    "            SELECT daily_weather.DATE, taxi_trips.tip_amount, daily_weather.Precipitation\n",
    "            FROM taxi_trips\n",
    "            INNER JOIN daily_weather\n",
    "                ON daily_weather.DATE = DATE(taxi_trips.pickup_datetime)\n",
    "            GROUP BY DATE\n",
    "    \"\"\"\n",
    "    # Since there isn't any significant outlier that impact the plot,\n",
    "    # we do not consider drop any values from the dataframe\n",
    "    dataframe = pd.read_sql_query(query_tip_precipitation, engine)\n",
    "    return dataframe"
   ]
  },
  {
   "cell_type": "code",
   "execution_count": 94,
   "id": "56e91c80",
   "metadata": {},
   "outputs": [
    {
     "data": {
      "image/png": "[encoded data removed]",
      "text/plain": [
       "<Figure size 432x288 with 1 Axes>"
      ]
     },
     "metadata": {
      "needs_background": "light"
     },
     "output_type": "display_data"
    }
   ],
   "source": [
    "tip_precipitation = get_tip_precipitation()\n",
    "plot_tip_precipitation(tip_precipitation)"
   ]
  }
 ],
 "metadata": {
  "kernelspec": {
   "display_name": "Python 3 (ipykernel)",
   "language": "python",
   "name": "python3"
  },
  "language_info": {
   "codemirror_mode": {
    "name": "ipython",
    "version": 3
   },
   "file_extension": ".py",
   "mimetype": "text/x-python",
   "name": "python",
   "nbconvert_exporter": "python",
   "pygments_lexer": "ipython3",
   "version": "3.9.12"
  },
  "vscode": {
   "interpreter": {
    "hash": "31f2aee4e71d21fbe5cf8b01ff0e069b9275f58929596ceb00d14d90e3e16cd6"
   }
  }
 },
 "nbformat": 4,
 "nbformat_minor": 5
}
